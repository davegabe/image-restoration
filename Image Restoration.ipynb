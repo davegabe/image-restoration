{
 "cells": [
  {
   "cell_type": "markdown",
   "metadata": {
    "id": "X0T1DB8mQEdi"
   },
   "source": [
    "# **Image Restoration**"
   ]
  },
  {
   "cell_type": "markdown",
   "metadata": {
    "id": "KsFrpqXCQrzQ"
   },
   "source": [
    "## Setup Environment"
   ]
  },
  {
   "cell_type": "code",
   "execution_count": null,
   "metadata": {
    "id": "8O0XW8vXQ1UI"
   },
   "outputs": [],
   "source": [
    "%load_ext autoreload\n",
    "%autoreload 2\n",
    "import os\n",
    "\n",
    "# Test if it's running in Google Colab\n",
    "try:\n",
    "    import google.colab\n",
    "    IN_COLAB = True\n",
    "except:\n",
    "    IN_COLAB = False\n",
    "\n",
    "if IN_COLAB:  # If it's running in Google Colab, mount the drive\n",
    "    from google.colab import drive\n",
    "    drive.mount('/content/drive')\n",
    "    HOME = \"/content/drive/MyDrive/Image Restoration/image-restoration\"\n",
    "    if not os.path.exists(HOME): # If the repo isn't cloned yet, clone it\n",
    "        os.chdir(\"/content/drive/MyDrive/Image Restoration/\")\n",
    "        !git clone https://github.com/davegabe/image-restoration.git\n",
    "        os.chdir(HOME)\n",
    "    else: # If it's already cloned, update it\n",
    "        os.chdir(HOME)\n",
    "        !git pull\n",
    "else:  # If it's running in local machine, use the local path\n",
    "    HOME = \"./\"\n",
    "    os.chdir(HOME)\n",
    "\n",
    "TRAINING_PATH = HOME + \"Dataset/Training/\"\n",
    "EVALUATION_PATH = HOME + \"Dataset/Evaluation/\"\n",
    "RESULTS_PATH = HOME + \"Results/\"\n",
    "MODEL_PATH = HOME + \"Model/\"\n",
    "WIDTH = 256\n",
    "HEIGHT = 256\n",
    "KEYWORD = \"landscape\"\n",
    "QUANTITY = 100\n",
    "EPOCH_SAVE = 50\n",
    "BATCH_SIZE = 50\n",
    "\n",
    "os.makedirs(TRAINING_PATH + \"Original/\", exist_ok=True)\n",
    "os.makedirs(TRAINING_PATH + \"Corrupted/\", exist_ok=True)\n",
    "os.makedirs(EVALUATION_PATH + \"Original/\", exist_ok=True)\n",
    "os.makedirs(EVALUATION_PATH + \"Corrupted/\", exist_ok=True)\n",
    "os.makedirs(RESULTS_PATH, exist_ok=True)\n",
    "os.makedirs(MODEL_PATH, exist_ok=True)"
   ]
  },
  {
   "cell_type": "markdown",
   "metadata": {
    "id": "bzycRi81QJyU"
   },
   "source": [
    "## Data Download"
   ]
  },
  {
   "cell_type": "code",
   "execution_count": null,
   "metadata": {
    "id": "VqnWf5IaP9Hr"
   },
   "outputs": [],
   "source": [
    "from data.downloader import download, adjustAndCrop, splitData\n",
    "from data.corrupter import corrupt\n",
    "import shutil\n",
    "\n",
    "# ALTERNATIVE:\n",
    "    # Dowload https://www.kaggle.com/datasets/arnaud58/landscape-pictures and put in TRAINING_PATH + \"Original/\"\n",
    "    # adjustAndCrop(TRAINING_PATH + \"Original/\", WIDTH, HEIGHT)\n",
    "    # splitData(TRAINING_PATH + \"Original/\", EVALUATION_PATH + \"Original/\")\n",
    "    # corrupt(TRAINING_PATH + \"Original/\", EVALUATION_PATH + \"Original/\", TRAINING_PATH + \"Corrupted/\", EVALUATION_PATH + \"Corrupted/\")\n",
    "\n",
    "def doYouReallyWantToDownload():\n",
    "    trainingFiles = len(os.listdir(TRAINING_PATH + \"Original/\")) + len(os.listdir(TRAINING_PATH + \"Original/\"))\n",
    "    evaluationFiles = len(os.listdir(EVALUATION_PATH + \"Original/\")) + len(os.listdir(EVALUATION_PATH + \"Corrupted/\"))\n",
    "    if trainingFiles + evaluationFiles > 0:\n",
    "        if input(\"Oops, there seems to be some files already, do you want to overwrite them? (y/n)\").capitalize() == \"Y\":\n",
    "            # remove all training files\n",
    "            shutil.rmtree(TRAINING_PATH + \"Original/\")\n",
    "            shutil.rmtree(TRAINING_PATH + \"Corrupted/\")\n",
    "            shutil.rmtree(EVALUATION_PATH + \"Original/\")\n",
    "            shutil.rmtree(EVALUATION_PATH + \"Corrupted/\")\n",
    "            os.makedirs(TRAINING_PATH + \"Original/\", exist_ok=True)\n",
    "            os.makedirs(TRAINING_PATH + \"Corrupted/\", exist_ok=True)\n",
    "            os.makedirs(EVALUATION_PATH + \"Original/\", exist_ok=True)\n",
    "            os.makedirs(EVALUATION_PATH + \"Corrupted/\", exist_ok=True)\n",
    "            return True\n",
    "        else:\n",
    "            return False\n",
    "    else:\n",
    "            return True\n",
    "\n",
    "\n",
    "print(\"Generating dataset...\")\n",
    "if doYouReallyWantToDownload():\n",
    "    download(TRAINING_PATH + \"Original/\", EVALUATION_PATH + \"Original/\", WIDTH, HEIGHT, KEYWORD, QUANTITY)\n",
    "    corrupt(TRAINING_PATH + \"Original/\", EVALUATION_PATH + \"Original/\", TRAINING_PATH + \"Corrupted/\", EVALUATION_PATH + \"Corrupted/\")\n",
    "    print(\"Dataset generated.\")\n",
    "else:\n",
    "    print(\"Dataset not generated (already exists).\")\n"
   ]
  },
  {
   "cell_type": "markdown",
   "metadata": {
    "id": "XmlKnGlOQP3W"
   },
   "source": [
    "## Training"
   ]
  },
  {
   "cell_type": "code",
   "execution_count": null,
   "metadata": {
    "id": "iDVuF7LlQeO2"
   },
   "outputs": [],
   "source": [
    "from autoencoder.train import train\n",
    "\n",
    "train(TRAINING_PATH, MODEL_PATH, EPOCH_SAVE, BATCH_SIZE, WIDTH, HEIGHT)"
   ]
  },
  {
   "cell_type": "markdown",
   "metadata": {
    "id": "EOZ1-YhBQoVB"
   },
   "source": [
    "## Testing"
   ]
  },
  {
   "cell_type": "code",
   "execution_count": null,
   "metadata": {
    "id": "5wNuI6w_QkBP"
   },
   "outputs": [],
   "source": [
    "from autoencoder.test import test\n",
    "\n",
    "TRAINING_PATH = HOME + \"Dataset/Training/\"\n",
    "EVALUATION_PATH = HOME + \"Dataset/Evaluation/\"\n",
    "test(MODEL_PATH, TRAINING_PATH, RESULTS_PATH, BATCH_SIZE, WIDTH, HEIGHT)"
   ]
  },
  {
   "cell_type": "markdown",
   "metadata": {},
   "source": [
    "## Cleanup"
   ]
  },
  {
   "cell_type": "code",
   "execution_count": null,
   "metadata": {},
   "outputs": [],
   "source": [
    "# remove RESULTS_PATH and MODEL_PATH and its contents\n",
    "import shutil\n",
    "shutil.rmtree(RESULTS_PATH)\n",
    "shutil.rmtree(MODEL_PATH)\n",
    "os.makedirs(RESULTS_PATH, exist_ok=True)\n",
    "os.makedirs(MODEL_PATH, exist_ok=True)"
   ]
  }
 ],
 "metadata": {
  "colab": {
   "authorship_tag": "ABX9TyMdEXIhQUK3geB/cnDXf/Ic",
   "collapsed_sections": [
    "KsFrpqXCQrzQ",
    "bzycRi81QJyU",
    "XmlKnGlOQP3W",
    "EOZ1-YhBQoVB"
   ],
   "name": "Image Reconstruction.ipynb",
   "provenance": []
  },
  "kernelspec": {
   "display_name": "Python 3.9.7 ('base')",
   "language": "python",
   "name": "python3"
  },
  "language_info": {
   "codemirror_mode": {
    "name": "ipython",
    "version": 3
   },
   "file_extension": ".py",
   "mimetype": "text/x-python",
   "name": "python",
   "nbconvert_exporter": "python",
   "pygments_lexer": "ipython3",
   "version": "3.9.7"
  },
  "vscode": {
   "interpreter": {
    "hash": "632924e73c662d7eb2092878768cabae4c1618472e5b2e0bb7284b4110ee9d56"
   }
  }
 },
 "nbformat": 4,
 "nbformat_minor": 0
}
